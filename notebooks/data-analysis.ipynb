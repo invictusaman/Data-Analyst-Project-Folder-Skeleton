{
 "cells": [
  {
   "cell_type": "markdown",
   "id": "194614bb-e042-43f3-810e-76f0a8b558c2",
   "metadata": {},
   "source": [
    "# [Project Name]: [Task/Phase] Analysis\n",
    "- Performed by [Your_Name]\n",
    "- [Today's Date]  \n",
    "---"
   ]
  },
  {
   "cell_type": "markdown",
   "id": "b6357468-f34d-4890-9cf0-f7aaea096a96",
   "metadata": {},
   "source": [
    "## Executive Summary\n",
    "Briefly explain the main goal of the analysis (e.g., \"To analyze the Data Analyst Job Trends in Canada\")."
   ]
  },
  {
   "cell_type": "markdown",
   "id": "8760d994-6dfb-41c4-8ac8-a07e7445bf1a",
   "metadata": {},
   "source": [
    "---"
   ]
  },
  {
   "cell_type": "markdown",
   "id": "2fd83a6d-0c65-42a1-afe0-abe5f2fd6baa",
   "metadata": {
    "jp-MarkdownHeadingCollapsed": true
   },
   "source": [
    "### 1. Import\n",
    "*This section contains all necessary imports of libraries and datasets required for the analysis.*"
   ]
  },
  {
   "cell_type": "code",
   "execution_count": null,
   "id": "162d935e",
   "metadata": {},
   "outputs": [],
   "source": [
    "# Let us first set `src` folder to utilize our predefined python functions\n",
    "import sys\n",
    "import os\n",
    "\n",
    "# Add the src directory to the Python path\n",
    "src_path = os.path.abspath(os.path.join(os.getcwd(), '..', 'src'))\n",
    "sys.path.append(src_path)"
   ]
  },
  {
   "cell_type": "code",
   "execution_count": null,
   "id": "ff963252",
   "metadata": {},
   "outputs": [],
   "source": [
    "# Import from src/config/paths.py\n",
    "from config.paths import get_data_paths, get_output_paths, ensure_directories_exist\n",
    "\n",
    "# Import from src/preprocessing/processor.py\n",
    "from preprocessing.processor import process_and_clean_data\n",
    "\n",
    "# Import from src/analysis/analyzer.py\n",
    "from analysis.analyzer import analyze_data\n",
    "\n",
    "# Import from src/visualization/visualizer.py\n",
    "from visualization.visualizer import create_visualizations"
   ]
  },
  {
   "cell_type": "markdown",
   "id": "e16f5ef6",
   "metadata": {},
   "source": [
    "### 2. Loading the Dataset and Verifying Path Folder exists\n",
    "\n",
    "*Here, we load the dataset and confirm required folders and paths exist.*"
   ]
  },
  {
   "cell_type": "code",
   "execution_count": null,
   "id": "f0f95a47",
   "metadata": {},
   "outputs": [],
   "source": [
    "# Initialize paths\n",
    "data_paths = get_data_paths(\"sample.csv\")  # Replace with your dataset name\n",
    "output_paths = get_output_paths()\n",
    "\n",
    "# Ensure all necessary directories exist\n",
    "ensure_directories_exist({**data_paths, **output_paths})"
   ]
  },
  {
   "cell_type": "code",
   "execution_count": null,
   "id": "4d07f156",
   "metadata": {},
   "outputs": [],
   "source": [
    "# You can also use individual functions as needed\n",
    "'''\n",
    "Make sure to import required libraries\n",
    "Eg: # Import from preprocessing/loader.py \n",
    "from preprocessing.loader import load_cleaned_data\n",
    "'''\n",
    "# df = load_cleaned_data(data_paths)\n",
    "# summary_stats = calculate_summary_statistics(df)\n",
    "# print(summary_stats)\n",
    "\n",
    "# Create a specific visualization\n",
    "# plot_histogram(df, 'some_numeric_column', output_paths)"
   ]
  },
  {
   "cell_type": "markdown",
   "id": "48f87700-4737-44a7-b736-1bce777f970c",
   "metadata": {
    "jp-MarkdownHeadingCollapsed": true
   },
   "source": [
    "### 3. Pre-Processing\n",
    "*Here, the data is cleaned and transformed to ensure it's ready for analysis and modeling.*"
   ]
  },
  {
   "cell_type": "code",
   "execution_count": null,
   "id": "77609049",
   "metadata": {},
   "outputs": [],
   "source": [
    "# Load and process data\n",
    "process_and_clean_data(data_paths)"
   ]
  },
  {
   "cell_type": "markdown",
   "id": "adda71bf-ee70-4548-b09a-499df1dfa22d",
   "metadata": {
    "jp-MarkdownHeadingCollapsed": true
   },
   "source": [
    "### 4. EDA\n",
    "*The goal is to explore exploratory analysis of the dataset, identify trends, outliers, and relationships between variables.*"
   ]
  },
  {
   "cell_type": "code",
   "execution_count": null,
   "id": "e3491815",
   "metadata": {},
   "outputs": [],
   "source": [
    "# Perform analysis\n",
    "analyze_data(data_paths)"
   ]
  },
  {
   "cell_type": "markdown",
   "id": "a80241ba",
   "metadata": {},
   "source": [
    "### 5. Visualization\n",
    "*This section involves plotting different graphs and charts based on the questions.*"
   ]
  },
  {
   "cell_type": "code",
   "execution_count": null,
   "id": "5cf04434",
   "metadata": {},
   "outputs": [],
   "source": [
    "# Create visualizations\n",
    "create_visualizations(data_paths, output_paths)"
   ]
  },
  {
   "cell_type": "markdown",
   "id": "54c92825-c3ae-4097-a87e-72e3108bd832",
   "metadata": {
    "jp-MarkdownHeadingCollapsed": true
   },
   "source": [
    "### 6. Conclusion\n",
    "*A summary of the findings and key insights, and any recommendations based on the analysis.*"
   ]
  }
 ],
 "metadata": {
  "kernelspec": {
   "display_name": "Python 3 (ipykernel)",
   "language": "python",
   "name": "python3"
  },
  "language_info": {
   "codemirror_mode": {
    "name": "ipython",
    "version": 3
   },
   "file_extension": ".py",
   "mimetype": "text/x-python",
   "name": "python",
   "nbconvert_exporter": "python",
   "pygments_lexer": "ipython3",
   "version": "3.11.7"
  }
 },
 "nbformat": 4,
 "nbformat_minor": 5
}
